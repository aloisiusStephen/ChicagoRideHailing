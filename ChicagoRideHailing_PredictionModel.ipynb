{
 "cells": [
  {
   "cell_type": "markdown",
   "metadata": {},
   "source": [
    "### Chicago Taxi Trips Fare Prediction"
   ]
  },
  {
   "cell_type": "code",
   "execution_count": 1,
   "metadata": {},
   "outputs": [],
   "source": [
    "# import packages\n",
    "import pandas as pd\n",
    "import matplotlib.pyplot as plt\n",
    "import numpy as np\n",
    "import datetime\n",
    "from IPython.display import display \n",
    "%matplotlib inline\n",
    "plt.style.use('ggplot')\n",
    "pd.options.display.float_format = '{:,.2f}'.format"
   ]
  },
  {
   "cell_type": "code",
   "execution_count": null,
   "metadata": {},
   "outputs": [],
   "source": [
    "# import cleaned Taxi Trip data from CSV into DataFrame\n",
    "%run ./ChicagoRideHailing_DataCleaning.ipynb\n",
    "df =  df_clean\n"
   ]
  },
  {
   "cell_type": "code",
   "execution_count": null,
   "metadata": {},
   "outputs": [],
   "source": [
    "df.info()"
   ]
  },
  {
   "cell_type": "markdown",
   "metadata": {},
   "source": [
    "#### Base Model\n",
    "\n",
    "The trip fare is calculated based on the following calculations:\n",
    "\n",
    "$\\text{Fare} = \\text{Base Fare} + (\\text{Trip Distance} \\times \\text{Fare Rate per Unit Distance}) + (\\text{Trip Time} \\times \\text{Fare Rate per Unit Time}) $\n",
    "\n",
    "This is essentially a linear model, and therefore a linear regression will be used as a starting point."
   ]
  },
  {
   "cell_type": "code",
   "execution_count": null,
   "metadata": {},
   "outputs": [],
   "source": []
  }
 ],
 "metadata": {
  "kernelspec": {
   "display_name": "Python 3",
   "language": "python",
   "name": "python3"
  },
  "language_info": {
   "codemirror_mode": {
    "name": "ipython",
    "version": 3
   },
   "file_extension": ".py",
   "mimetype": "text/x-python",
   "name": "python",
   "nbconvert_exporter": "python",
   "pygments_lexer": "ipython3",
   "version": "3.6.13"
  }
 },
 "nbformat": 4,
 "nbformat_minor": 2
}
